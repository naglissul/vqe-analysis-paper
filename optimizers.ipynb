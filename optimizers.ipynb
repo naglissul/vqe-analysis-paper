{
 "cells": [
  {
   "cell_type": "markdown",
   "id": "404c63e3",
   "metadata": {},
   "source": [
    "# Classical optimizers"
   ]
  }
 ],
 "metadata": {
  "language_info": {
   "name": "python"
  }
 },
 "nbformat": 4,
 "nbformat_minor": 5
}
