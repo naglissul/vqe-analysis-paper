{
 "cells": [
  {
   "cell_type": "markdown",
   "id": "0a481f90",
   "metadata": {},
   "source": [
    "# Ansatze\n"
   ]
  },
  {
   "cell_type": "code",
   "execution_count": null,
   "id": "92a9f985",
   "metadata": {},
   "outputs": [],
   "source": [
    "# Data being collected\n"
   ]
  },
  {
   "cell_type": "markdown",
   "id": "cb6667e9",
   "metadata": {},
   "source": [
    "## UCCSD"
   ]
  },
  {
   "cell_type": "code",
   "execution_count": null,
   "id": "83b1273c",
   "metadata": {},
   "outputs": [],
   "source": []
  },
  {
   "cell_type": "markdown",
   "id": "0112dddb",
   "metadata": {},
   "source": [
    "## 1-UpCCGSD"
   ]
  },
  {
   "cell_type": "code",
   "execution_count": null,
   "id": "97ac1d1c",
   "metadata": {},
   "outputs": [],
   "source": []
  },
  {
   "cell_type": "markdown",
   "id": "c081e8e7",
   "metadata": {},
   "source": [
    "## 2-UpCCGSD"
   ]
  },
  {
   "cell_type": "code",
   "execution_count": null,
   "id": "1212b7fd",
   "metadata": {},
   "outputs": [],
   "source": []
  },
  {
   "cell_type": "markdown",
   "id": "55b5d158",
   "metadata": {},
   "source": [
    "## 3-UpCCGSD"
   ]
  },
  {
   "cell_type": "code",
   "execution_count": null,
   "id": "2d1fe3e7",
   "metadata": {},
   "outputs": [],
   "source": []
  },
  {
   "cell_type": "markdown",
   "id": "1208b647",
   "metadata": {},
   "source": [
    "## ADAPT-VQE"
   ]
  },
  {
   "cell_type": "code",
   "execution_count": null,
   "id": "85a9ef02",
   "metadata": {},
   "outputs": [],
   "source": []
  },
  {
   "cell_type": "markdown",
   "id": "059b70dd",
   "metadata": {},
   "source": [
    "## FCI\n",
    "\n",
    "> CLassical exact calculation for accuracy evaluation"
   ]
  },
  {
   "cell_type": "code",
   "execution_count": null,
   "id": "baa07253",
   "metadata": {},
   "outputs": [],
   "source": []
  }
 ],
 "metadata": {
  "kernelspec": {
   "display_name": "qiskit-env",
   "language": "python",
   "name": "python3"
  },
  "language_info": {
   "name": "python",
   "version": "3.13.2"
  }
 },
 "nbformat": 4,
 "nbformat_minor": 5
}
