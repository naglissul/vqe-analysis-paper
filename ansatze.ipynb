{
 "cells": [
  {
   "cell_type": "markdown",
   "id": "0a481f90",
   "metadata": {},
   "source": [
    "# Ansatze\n"
   ]
  },
  {
   "cell_type": "markdown",
   "id": "cb6667e9",
   "metadata": {},
   "source": [
    "## UCCSD"
   ]
  },
  {
   "cell_type": "code",
   "execution_count": null,
   "id": "83b1273c",
   "metadata": {
    "vscode": {
     "languageId": "plaintext"
    }
   },
   "outputs": [],
   "source": []
  },
  {
   "cell_type": "markdown",
   "id": "0112dddb",
   "metadata": {},
   "source": [
    "## k-UpCCGSD"
   ]
  },
  {
   "cell_type": "code",
   "execution_count": null,
   "id": "97ac1d1c",
   "metadata": {
    "vscode": {
     "languageId": "plaintext"
    }
   },
   "outputs": [],
   "source": []
  },
  {
   "cell_type": "markdown",
   "id": "1208b647",
   "metadata": {},
   "source": [
    "## ADAPT-VQE"
   ]
  },
  {
   "cell_type": "code",
   "execution_count": null,
   "id": "85a9ef02",
   "metadata": {
    "vscode": {
     "languageId": "plaintext"
    }
   },
   "outputs": [],
   "source": []
  },
  {
   "cell_type": "markdown",
   "id": "059b70dd",
   "metadata": {},
   "source": [
    "## FCI\n",
    "\n",
    "> CLassical exact calculation for accuracy evaluation"
   ]
  },
  {
   "cell_type": "code",
   "execution_count": null,
   "id": "baa07253",
   "metadata": {
    "vscode": {
     "languageId": "plaintext"
    }
   },
   "outputs": [],
   "source": []
  }
 ],
 "metadata": {
  "language_info": {
   "name": "python"
  }
 },
 "nbformat": 4,
 "nbformat_minor": 5
}
