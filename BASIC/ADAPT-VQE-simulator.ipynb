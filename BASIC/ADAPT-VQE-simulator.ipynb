{
 "cells": [
  {
   "cell_type": "code",
   "execution_count": 5,
   "id": "22b8bd32",
   "metadata": {},
   "outputs": [
    {
     "name": "stderr",
     "output_type": "stream",
     "text": [
      "/tmp/ipykernel_749345/1372990882.py:34: DeprecationWarning: The class ``qiskit.primitives.estimator.Estimator`` is deprecated as of qiskit 1.2. It will be removed no earlier than 3 months after the release date. All implementations of the `BaseEstimatorV1` interface have been deprecated in favor of their V2 counterparts. The V2 alternative for the `Estimator` class is `StatevectorEstimator`.\n",
      "  adapt_vqe = AdaptVQE(VQE(Estimator(), adapt_vqe_ansatz, optimizer))\n"
     ]
    },
    {
     "name": "stdout",
     "output_type": "stream",
     "text": [
      "Adapt-VQE Energy: -1.100179536751887\n"
     ]
    }
   ],
   "source": [
    "from qiskit_nature.second_q.drivers import PySCFDriver\n",
    "from qiskit_nature.second_q.formats import MoleculeInfo\n",
    "from qiskit_nature.second_q.mappers import ParityMapper\n",
    "from qiskit_nature.second_q.circuit.library import HartreeFock, UCCSD\n",
    "from qiskit_nature.second_q.transformers import FreezeCoreTransformer\n",
    "from qiskit_algorithms.optimizers import SLSQP\n",
    "from qiskit_algorithms.minimum_eigensolvers import AdaptVQE, VQE\n",
    "from qiskit.primitives import Estimator\n",
    "\n",
    "info = MoleculeInfo([\"Li\", \"H\"], [(0.0, 0.0, 0.0), (0.0, 0.0, 1.5)])\n",
    "driver = PySCFDriver.from_molecule(info, basis=\"sto3g\")\n",
    "molecule = driver.run()\n",
    "\n",
    "molecule = FreezeCoreTransformer().transform(molecule)\n",
    "hamiltonian = molecule.hamiltonian.second_q_op()\n",
    "mapper = ParityMapper(num_particles=molecule.num_particles)\n",
    "tapered_mapper = molecule.get_tapered_mapper(mapper)\n",
    "qubit_op = tapered_mapper.map(hamiltonian)\n",
    "\n",
    "init_state = HartreeFock(\n",
    "    molecule.num_spatial_orbitals,\n",
    "    molecule.num_particles,\n",
    "    tapered_mapper\n",
    ")\n",
    "\n",
    "adapt_vqe_ansatz = UCCSD(\n",
    "    molecule.num_spatial_orbitals,\n",
    "    molecule.num_particles,\n",
    "    tapered_mapper,\n",
    "    initial_state=init_state\n",
    ")\n",
    "\n",
    "optimizer = SLSQP(maxiter=10000, ftol=1e-9)\n",
    "adapt_vqe = AdaptVQE(VQE(Estimator(), adapt_vqe_ansatz, optimizer))\n",
    "\n",
    "result_adapt_vqe = adapt_vqe.compute_minimum_eigenvalue(qubit_op)\n",
    "print(\"Adapt-VQE Energy:\", result_adapt_vqe.eigenvalue)\n"
   ]
  }
 ],
 "metadata": {
  "kernelspec": {
   "display_name": "qiskit-env",
   "language": "python",
   "name": "python3"
  },
  "language_info": {
   "codemirror_mode": {
    "name": "ipython",
    "version": 3
   },
   "file_extension": ".py",
   "mimetype": "text/x-python",
   "name": "python",
   "nbconvert_exporter": "python",
   "pygments_lexer": "ipython3",
   "version": "3.12.3"
  }
 },
 "nbformat": 4,
 "nbformat_minor": 5
}
