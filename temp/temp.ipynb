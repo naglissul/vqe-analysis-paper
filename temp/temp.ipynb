{
 "cells": [
  {
   "cell_type": "markdown",
   "id": "8ae4d78b",
   "metadata": {},
   "source": [
    "1. run HEA with H_2 .735\n",
    "2. run UCCSD, k-UpCCGSD amd others with H_2 .735\n",
    "4. run HEA with H_2 other distances"
   ]
  },
  {
   "cell_type": "markdown",
   "id": "2f7f7aca",
   "metadata": {},
   "source": [
    "```\n",
    "optimizer = L_BFGS_B(maxiter=40, tol=1e-12)\n",
    "```"
   ]
  },
  {
   "cell_type": "markdown",
   "id": "57e06825",
   "metadata": {},
   "source": [
    "collect data bit by bit..."
   ]
  },
  {
   "cell_type": "code",
   "execution_count": 11,
   "id": "04889ae4",
   "metadata": {},
   "outputs": [
    {
     "name": "stdout",
     "output_type": "stream",
     "text": [
      "Iterations: 40\n",
      "Objective value: -0.8885914233275589\n",
      "Optimal point: [-4.74634612  0.9633125   7.58353496 -5.36975887 -2.43363262  0.07333011\n",
      "  6.9016187   2.05520047 -5.27656568 -1.87109152]\n"
     ]
    }
   ],
   "source": [
    "from qiskit_algorithms.optimizers import L_BFGS_B\n",
    "import numpy as np\n",
    "\n",
    "np.random.seed(0)\n",
    "dim = 10\n",
    "x0 = np.random.rand(dim)\n",
    "\n",
    "# Random quadratic objective\n",
    "Q = np.random.rand(dim, dim)\n",
    "Q = Q @ Q.T  # make symmetric positive-definite\n",
    "b = np.random.rand(dim)\n",
    "\n",
    "def obj(x):\n",
    "    return 0.5 * x @ Q @ x - b @ x\n",
    "\n",
    "optimizer = L_BFGS_B(maxiter=40, tol=1e-12)\n",
    "result = optimizer.minimize(fun=obj, x0=x0)\n",
    "\n",
    "print(\"Iterations:\", result.nit)\n",
    "print(\"Objective value:\", result.fun)\n",
    "print(\"Optimal point:\", result.x)\n"
   ]
  }
 ],
 "metadata": {
  "kernelspec": {
   "display_name": "qiskit-env",
   "language": "python",
   "name": "python3"
  },
  "language_info": {
   "codemirror_mode": {
    "name": "ipython",
    "version": 3
   },
   "file_extension": ".py",
   "mimetype": "text/x-python",
   "name": "python",
   "nbconvert_exporter": "python",
   "pygments_lexer": "ipython3",
   "version": "3.13.2"
  }
 },
 "nbformat": 4,
 "nbformat_minor": 5
}
