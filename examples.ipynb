{
 "cells": [
  {
   "cell_type": "markdown",
   "id": "05ea69e2",
   "metadata": {},
   "source": [
    "# Examples in the paper, not the experiment"
   ]
  },
  {
   "cell_type": "markdown",
   "id": "f45bc67e",
   "metadata": {},
   "source": [
    "## 2.1. Example electronic Hamiltonian"
   ]
  },
  {
   "cell_type": "code",
   "execution_count": null,
   "id": "af401f05",
   "metadata": {},
   "outputs": [
    {
     "ename": "",
     "evalue": "",
     "output_type": "error",
     "traceback": [
      "\u001b[1;31mRunning cells with 'Python 3.12.3' requires the ipykernel package.\n",
      "\u001b[1;31m<a href='command:jupyter.createPythonEnvAndSelectController'>Create a Python Environment</a> with the required packages.\n",
      "\u001b[1;31mOr install 'ipykernel' using the command: '/bin/python3 -m pip install ipykernel -U --user --force-reinstall'"
     ]
    }
   ],
   "source": [
    "from qiskit_nature.second_q.drivers import PySCFDriver\n",
    "from qiskit_nature.units import DistanceUnit\n",
    "driver = PySCFDriver(\n",
    "    atom='H .0 .0 .0; H .0 .0 0.735',\n",
    "    unit=DistanceUnit.ANGSTROM,\n",
    "    basis='sto3g',\n",
    ")\n",
    "problem = driver.run()\n",
    "fermionic_hamiltonian = problem.hamiltonian.second_q_op()\n",
    "print(\"FERMIONIC HAMILTONIAN: \\n\")\n",
    "print(fermionic_hamiltonian)"
   ]
  },
  {
   "cell_type": "markdown",
   "id": "90153d89",
   "metadata": {},
   "source": [
    "## 2.1. Example qubit Hamiltonian"
   ]
  },
  {
   "cell_type": "code",
   "execution_count": null,
   "id": "8ed3a6f6",
   "metadata": {},
   "outputs": [
    {
     "ename": "",
     "evalue": "",
     "output_type": "error",
     "traceback": [
      "\u001b[1;31mRunning cells with 'Python 3.12.3' requires the ipykernel package.\n",
      "\u001b[1;31m<a href='command:jupyter.createPythonEnvAndSelectController'>Create a Python Environment</a> with the required packages.\n",
      "\u001b[1;31mOr install 'ipykernel' using the command: '/usr/bin/python3 -m pip install ipykernel -U --user --force-reinstall'"
     ]
    }
   ],
   "source": [
    "from qiskit_nature.second_q.mappers import ParityMapper\n",
    "mapper = ParityMapper(num_particles=problem.num_particles)\n",
    "qubit_hamiltonian = mapper.map(problem.hamiltonian.second_q_op())\n",
    "print(\"\\n\\nQUBIT HAMILTONIAN: \\n\")\n",
    "print(qubit_hamiltonian)"
   ]
  }
 ],
 "metadata": {
  "kernelspec": {
   "display_name": "Python 3",
   "language": "python",
   "name": "python3"
  },
  "language_info": {
   "name": "python",
   "version": "3.12.3"
  }
 },
 "nbformat": 4,
 "nbformat_minor": 5
}
