{
 "cells": [
  {
   "cell_type": "markdown",
   "id": "3b00e986",
   "metadata": {},
   "source": [
    "# Hamiltonian mappings"
   ]
  }
 ],
 "metadata": {
  "language_info": {
   "name": "python"
  }
 },
 "nbformat": 4,
 "nbformat_minor": 5
}
