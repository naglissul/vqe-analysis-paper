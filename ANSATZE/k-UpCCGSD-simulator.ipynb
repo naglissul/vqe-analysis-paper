{
 "cells": [
  {
   "cell_type": "markdown",
   "id": "ac33f21d",
   "metadata": {},
   "source": [
    "    \\item k-UpCCGSD ansatz with $k\\in\\{1; 2; 3\\}$, L-BFGS-B optimizer, Jordan-Wigner mapping, Aer simulator,\n",
    "\n",
    "        \\item circuit depth,\n",
    "    \\item gate fidelity,\n",
    "    \\item parameter count,\n",
    "    \\item TRAINABILITY,\n",
    "    \\item EXPRESSIBILITY.\n",
    "\n",
    "     $H_2$, $He$, $LiH$, $BeH_2$ molecules.\n",
    "     \n",
    "     \\item converged ground state energy graph, depending on the inter-atomic distance,\n",
    "\\item accuracy, with reference of FCI calculations, absolute error (\\parencite{sims2006high}), depending on the inter-atomic distance,\n",
    "\\item number of iterations needed to achieve convergence (gradient tolerance is $10^{-5}$), depending on the inter-atomic distance,\n",
    "\\item for one inter-atomic distance, graph of convergence,\n",
    "\\item runtime, depending on the inter-atomic distance."
   ]
  }
 ],
 "metadata": {
  "language_info": {
   "name": "python"
  }
 },
 "nbformat": 4,
 "nbformat_minor": 5
}
