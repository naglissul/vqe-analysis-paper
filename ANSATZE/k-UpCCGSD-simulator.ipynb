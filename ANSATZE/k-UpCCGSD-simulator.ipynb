{
 "cells": [
  {
   "cell_type": "markdown",
   "id": "ac33f21d",
   "metadata": {},
   "source": [
    "    \\item k-UpCCGSD ansatz with $k\\in\\{1; 2; 3\\}$, L-BFGS-B optimizer, Jordan-Wigner mapping, Aer simulator,\n",
    "\n",
    "        \\item circuit depth,\n",
    "    \\item gate fidelity,\n",
    "    \\item parameter count,\n",
    "    \\item TRAINABILITY,\n",
    "    \\item EXPRESSIBILITY.\n",
    "\n",
    "     $H_2$, $He$, $LiH$, $BeH_2$ molecules.\n",
    "     \n",
    "     \\item converged ground state energy graph, depending on the inter-atomic distance,\n",
    "\\item accuracy, with reference of FCI calculations, absolute error (\\parencite{sims2006high}), depending on the inter-atomic distance,\n",
    "\\item number of iterations needed to achieve convergence (gradient tolerance is $10^{-5}$), depending on the inter-atomic distance,\n",
    "\\item for one inter-atomic distance, graph of convergence,\n",
    "\\item runtime, depending on the inter-atomic distance."
   ]
  },
  {
   "cell_type": "markdown",
   "id": "c2bda435",
   "metadata": {},
   "source": [
    "> Data from kUpCCGSD-tequila-env.ipynb, or to be precise: kupccgsd-hamiltonians.txt and kupccgsd-ansatzes.txt"
   ]
  },
  {
   "cell_type": "code",
   "execution_count": null,
   "id": "4284186e",
   "metadata": {},
   "outputs": [],
   "source": [
    "import re\n",
    "from qiskit import QuantumCircuit\n",
    "from qiskit.quantum_info import SparsePauliOp\n",
    "from qiskit.circuit.library import PauliEvolutionGate"
   ]
  },
  {
   "cell_type": "code",
   "execution_count": null,
   "id": "9031e2e9",
   "metadata": {},
   "outputs": [],
   "source": [
    "molecules = [\n",
    "    (\"H2\", lambda d: f\"H 0.0 0.0 0.0\\nH 0.0 0.0 {d}\"),\n",
    "    (\"LiH\", lambda d: f\"Li 0.0 0.0 0.0\\nH 0.0 0.0 {d}\"),\n",
    "    (\"BeH2\", lambda d: f\"Be 0.0 0.0 0.0\\nH 0.0 0.0 {d}\\nH 0.0 0.0 {-d}\"),\n",
    "]\n",
    "\n",
    "distances=[0.1, 0.2, 0.5, 0.735, 1.0, 1.5, 2.0, 3.0, 4.0]\n",
    "\n",
    "ks=[1,2,3]"
   ]
  },
  {
   "cell_type": "code",
   "execution_count": null,
   "id": "39aa8bae",
   "metadata": {},
   "outputs": [],
   "source": [
    "hamiltonians=[]\n",
    "hamiltonian_prep_times=[]\n",
    "\n",
    "ansatzes=[]\n",
    "ansatz_prep_times=[]"
   ]
  },
  {
   "cell_type": "code",
   "execution_count": null,
   "id": "ba3ffdf0",
   "metadata": {},
   "outputs": [],
   "source": [
    "# example\n",
    "hamiltonian_str = \"\"\"\n",
    "+4.9081+0.2909Z(0)-0.0056Y(0)Z(1)Y(2)-0.0056X(0)Z(1)X(2)+0.2909Z(1)-0.0056Y(1)Z(2)Y(3)-0.0056X(1)Z(2)X(3)-0.7411Z(2)-0.7411Z(3)+0.2481Z(0)Z(1)+0.0781Y(0)Y(2)+0.0781X(0)X(2)+0.0781Z(0)Y(1)Z(2)Y(3)+0.0781Z(0)X(1)Z(2)X(3)+0.0629Y(0)X(1)X(2)Y(3)-0.0629Y(0)Y(1)X(2)X(3)-0.0629X(0)X(1)Y(2)Y(3)+0.0629X(0)Y(1)Y(2)X(3)+0.1693Z(0)Z(2)+0.2322Z(0)Z(3)+0.0836Y(0)Z(1)Y(2)Z(3)+0.0836X(0)Z(1)X(2)Z(3)+0.2322Z(1)Z(2)+0.0836Y(1)Y(3)+0.0836X(1)X(3)+0.1693Z(1)Z(3)+0.2329Z(2)Z(3)\n",
    "\"\"\"\n",
    "\n",
    "pattern = r'([+-]?\\d+\\.\\d+)([XYZ\\(\\)\\d]*)'\n",
    "terms = re.findall(pattern, hamiltonian_str)\n",
    "\n",
    "paulis = []\n",
    "coeffs = []\n",
    "\n",
    "for coeff, ops in terms:\n",
    "    pauli = ['I'] * 4\n",
    "    for op, idx in re.findall(r'([XYZ])\\((\\d)\\)', ops):\n",
    "        pauli[int(idx)] = op\n",
    "    paulis.append(''.join(reversed(pauli)))  # Qiskit uses little-endian\n",
    "    coeffs.append(float(coeff))\n",
    "\n",
    "sparse_op = SparsePauliOp(paulis, coeffs)\n",
    "qc = QuantumCircuit(4)\n",
    "qc.append(PauliEvolutionGate(sparse_op), range(4))\n",
    "\n",
    "print(qc)"
   ]
  }
 ],
 "metadata": {
  "kernelspec": {
   "display_name": "qiskit-env",
   "language": "python",
   "name": "python3"
  },
  "language_info": {
   "name": "python",
   "version": "3.12.3"
  }
 },
 "nbformat": 4,
 "nbformat_minor": 5
}
