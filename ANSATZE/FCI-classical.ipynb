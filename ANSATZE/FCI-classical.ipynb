{
 "cells": [
  {
   "cell_type": "markdown",
   "id": "7e71da02",
   "metadata": {},
   "source": [
    "    \\item (For accuracy comparison) FCI, classical, precise calculation.\n",
    " $H_2$, $He$, $LiH$, $BeH_2$ molecules."
   ]
  }
 ],
 "metadata": {
  "language_info": {
   "name": "python"
  }
 },
 "nbformat": 4,
 "nbformat_minor": 5
}
