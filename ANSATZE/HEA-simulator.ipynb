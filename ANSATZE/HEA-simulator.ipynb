{
 "cells": [
  {
   "cell_type": "markdown",
   "id": "6091d35d",
   "metadata": {},
   "source": [
    "    \\item (Only for $H_2$) HEA, L-BFGS-B optimizer, Parity mapping, 2 qubit reduction, IBM Quantum hardware \\begin{verbatim}ibm_brisbane\\end{verbatim},\n",
    "\n",
    "        \\item circuit depth,\n",
    "    \\item gate fidelity,\n",
    "    \\item parameter count,\n",
    "    \\item TRAINABILITY,\n",
    "    \\item EXPRESSIBILITY.\n",
    "\n",
    "     $H_2$ molecule.\n",
    "\n",
    "     \\item converged ground state energy graph, depending on the inter-atomic distance,\n",
    "\\item accuracy, with reference of FCI calculations, absolute error (\\parencite{sims2006high}), depending on the inter-atomic distance,\n",
    "\\item number of iterations needed to achieve convergence (gradient tolerance is $10^{-5}$), depending on the inter-atomic distance,\n",
    "\\item for one inter-atomic distance, graph of convergence,\n",
    "\\item runtime, depending on the inter-atomic distance.\n"
   ]
  }
 ],
 "metadata": {
  "language_info": {
   "name": "python"
  }
 },
 "nbformat": 4,
 "nbformat_minor": 5
}
